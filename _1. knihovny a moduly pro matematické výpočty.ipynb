{
 "cells": [
  {
   "cell_type": "code",
   "execution_count": 33,
   "id": "27a4df0e-21fd-4b4b-9445-fd4c0707d4ea",
   "metadata": {},
   "outputs": [
    {
     "name": "stdin",
     "output_type": "stream",
     "text": [
      "Zadejte číslo pro výpočet faktoriálu:  800\n"
     ]
    },
    {
     "name": "stdout",
     "output_type": "stream",
     "text": [
      "Výpočet faktoriálu čísla 800 pomocí standardního Pythonu trval 0.0010356903076171875 sekund.\n",
      "Výpočet faktoriálu čísla 800 pomocí knihovny numpy trval 0.0 sekund.\n",
      "Výpočet faktoriálu čísla 800 pomocí knihovny scipy trval 0.0 sekund.\n",
      "Numpy byla nejrychlejší.\n"
     ]
    }
   ],
   "source": [
    "# 1. Výpočet faktoriálu velkeho cisla\n",
    "import time  # Knihovna pro práci s časem\n",
    "import numpy as np  # Knihovna pro práci s poli a matematickými operacemi\n",
    "import scipy.special  # Modul knihovny Scipy pro práci se speciálními funkcemi\n",
    "import math  # Knihovna pro práci s matematickými funkcemi\n",
    "\n",
    "# Funkce pro výpočet faktoriálu pomocí rekurze v standard. Python\n",
    "def factorial_py(n):\n",
    "    if n == 0:  \n",
    "        return 1\n",
    "    else:  \n",
    "        return n * factorial_py(n-1)\n",
    "\n",
    "# Funkce pro výpočet faktoriálu pomocí knihovny numpy\n",
    "def factorial_numpy(n):\n",
    "    # np.arange(1, n+1) vytvoří pole čísel od 1 do n\n",
    "    # np.prod() vypočítá součin prvků tohoto pole, čímž získáme výsledek - faktoriál čísla n.\n",
    "    return np.prod(np.arange(1, n+1))\n",
    "\n",
    "# Funkce pro výpočet faktoriálu pomocí knihovny scipy\n",
    "def factorial_scipy(n):\n",
    "    # scipy.special.factorial() - je funkce z knihovny scipy, která vypočítá faktoriál čísla.\n",
    "    return scipy.special.factorial(n)\n",
    "\n",
    "# Vyžádání čísla od uživatele\n",
    "n = int(input(\"Zadejte číslo pro výpočet faktoriálu: \"))\n",
    "#n = 456\n",
    "\n",
    "# Nastavení časovače a výpočet faktoriálu pomocí standardního jazyka Python\n",
    "start = time.time()\n",
    "factorial_py(n)\n",
    "py_time = time.time() - start\n",
    "\n",
    "# Nastavení časovače a výpočet faktoriálu pomocí numpy\n",
    "start = time.time()\n",
    "factorial_np(n)\n",
    "np_time = time.time() - start\n",
    "\n",
    "# Nastavení časovače a výpočet faktoriálu pomocí scipy\n",
    "start = time.time()\n",
    "factorial_scipy(n)\n",
    "scipy_time = time.time() - start\n",
    "\n",
    "# Výstupní výsledky\n",
    "print(f\"Výpočet faktoriálu čísla {n} pomocí Pythonu trval {py_time} sek\")\n",
    "print(f\"Výpočet faktoriálu čísla {n} pomocí numpy trval {np_time} sek\")\n",
    "print(f\"Výpočet faktoriálu čísla {n} pomocí scipy trval {scipy_time} sek\")\n",
    "#print(f\"Výpočet faktoriálu čísla {n} je {factorial_py(n)}\")\n",
    "\n",
    "# Určení nejrychlejší metody pomocí if\n",
    "fastest = min(py_time, np_time, scipy_time)\n",
    "if fastest == py_time:\n",
    "    print(\"Standardní Python byl nejrychlejší.\")\n",
    "elif fastest == np_time:\n",
    "    print(\"Numpy byla nejrychlejší.\")\n",
    "else:\n",
    "    print(\"Scipy byla nejrychlejší.\")\n"
   ]
  },
  {
   "cell_type": "code",
   "execution_count": 43,
   "id": "72088911-dbf8-4afd-83af-82438dfe7584",
   "metadata": {},
   "outputs": [
    {
     "name": "stdout",
     "output_type": "stream",
     "text": [
      "Výpočet determinantu matice pomocí standardního Pythonu trval 0.0009999275207519531 sekund.\n",
      "Výpočet determinantu matice pomocí knihovny numpy trval 0.0 sekund.\n",
      "Numpy byla rychlejší.\n"
     ]
    }
   ],
   "source": [
    "# 2.Výpočet determinantu matice\n",
    "import time  # Knihovna pro práci s časem\n",
    "import numpy as np  # Knihovna pro práci s poli a matematickými operacemi\n",
    "\n",
    "# Funkce pro výpočet determinantu matice pomocí standardního Pythonu\n",
    "def det_py(matrix):\n",
    "    n = len(matrix)  # Získáme velikost matice\n",
    "    if n == 1:  # Pokud je matice tvořena jedním prvkem, vrátíme tento prvek\n",
    "        return matrix[0][0]\n",
    "    elif n == 2:  # Pokud je matice 2x2, vrátíme rozdíl součinů prvků podél diagonál\n",
    "        return matrix[0][0]*matrix[1][1] - matrix[0][1]*matrix[1][0]\n",
    "    else:  # Pro matice větší velikosti použijeme rekurzivní metodu\n",
    "        det = 0\n",
    "        for j in range(n):  # Projdeme každý prvek prvního řádku matice\n",
    "            \n",
    "            # Vytvoříme podmatici vynecháním aktuálního řádku a sloupce\n",
    "            submatrix = [[matrix[i][k] for k in range(n) if k != j] for i in range(1,n)]\n",
    "            # Spočítáme determinant podmatice a přidáme ho k celkovému determinantu,\n",
    "            # bereme v úvahu znaménko (-1)^j a prvek matice matrix[0][j]\n",
    "            det += (-1)**j * matrix[0][j] * det_py(submatrix)\n",
    "        return det  # Vrátíme vypočítaný determinant\n",
    "\n",
    "# Funkce pro výpočet determinantu matice pomocí knihovny numpy\n",
    "def det_np(matrix):\n",
    "    return np.linalg.det(matrix)  # np.linalg.det() je funkce z knihovny numpy, která vypočítá determinant matice\n",
    "\n",
    "# Vyžádání čísla od uživatele\n",
    "#n = int(input(\"Zadejte velikost matice: \"))\n",
    "n = 5\n",
    "\n",
    "# Generování náhodné matice o rozměru n x n\n",
    "matrix = np.random.rand(n, n)\n",
    "\n",
    "# Nastavení časovače a výpočet determinantu pomocí standardního Pythonu\n",
    "start = time.time()\n",
    "det_py(matrix)\n",
    "py_time = time.time() - start\n",
    "\n",
    "# Nastavení časovače a výpočet determinantu pomocí numpy\n",
    "start = time.time()\n",
    "det_np(matrix)\n",
    "np_time = time.time() - start\n",
    "\n",
    "# Vypíšeme výsledky\n",
    "print(f\"Výpočet determinantu matice pomocí standardního Pythonu trval {py_time} sekund.\")\n",
    "print(f\"Výpočet determinantu matice pomocí knihovny numpy trval {np_time} sekund.\")\n",
    "\n",
    "# Určíme, která metoda byla rychlejší\n",
    "if py_time < np_time:\n",
    "    print(\"Standardní Python byl rychlejší.\")\n",
    "else:\n",
    "    print(\"Numpy byla rychlejší.\")"
   ]
  },
  {
   "cell_type": "markdown",
   "id": "f0d955df-660a-43a7-b3ac-12665944a530",
   "metadata": {},
   "source": [
    "3.Výpočet lineárních rovnic\n",
    "ax + b = c\n",
    "6*x + 8 = 20\n",
    "6*x = 12 |:6\n",
    "x = 2"
   ]
  },
  {
   "cell_type": "code",
   "execution_count": 52,
   "id": "a68fad27-09f6-4788-b7bd-66bc2e02ea5c",
   "metadata": {},
   "outputs": [
    {
     "name": "stdout",
     "output_type": "stream",
     "text": [
      "Řešení lineární rovnice pomocí standardního Pythonu trvalo 0.0 \n",
      "Řešení lineární rovnice pomocí numpy trvalo 0.0\n",
      "Numpy byla rychlejší.\n"
     ]
    }
   ],
   "source": [
    "import numpy as np\n",
    "import time\n",
    "\n",
    "# Funkce pro řešení lineární rovnice pomocí standardního Pythonu\n",
    "def vypocet_python(a, b, c):  # ax + b = c\n",
    "    \n",
    "    return (c - b) * (1/a)   # Místo dělení můžeme použít násobení s inverzní hodnotou 'a'\n",
    "\n",
    "# Funkce pro řešení lineární rovnice pomocí numpy\n",
    "def vypocet_numpy(a, b, c):  # ax + b = c\n",
    "    \n",
    "    return np.linalg.lstsq([[a]], [c - b], rcond=None)[0]\n",
    "\n",
    "# Testování rychlosti řešení lineární rovnice\n",
    "a = 2\n",
    "b = 8\n",
    "c = 20\n",
    "\n",
    "start_time = time.time()\n",
    "vypocet_python(a, b, c)\n",
    "python_time = time.time() - start_time\n",
    "\n",
    "start_time = time.time()\n",
    "vypocet_numpy(a, b, c)\n",
    "numpy_time = time.time() - start_time\n",
    "\n",
    "print(f\"Řešení lineární rovnice pomocí standardního Pythonu trvalo {python_time} \")\n",
    "print(f\"Řešení lineární rovnice pomocí numpy trvalo {numpy_time}\")\n",
    "\n",
    "if python_time < numpy_time:\n",
    "    print(\"Standardní Python byl rychlejší.\")\n",
    "else:\n",
    "    print(\"Numpy byla rychlejší.\")\n"
   ]
  },
  {
   "cell_type": "code",
   "execution_count": 56,
   "id": "61ac88ad-fd87-45df-a013-35d0c4997705",
   "metadata": {},
   "outputs": [
    {
     "name": "stdout",
     "output_type": "stream",
     "text": [
      "Numpy time: 0.026503324508666992\n",
      "Python time: 261.7536950111389\n",
      "NumPy je 9876.25891708572 krát rychlejší než Python\n"
     ]
    }
   ],
   "source": [
    "# 4 Násobení matic\n",
    "import numpy as np\n",
    "import random\n",
    "import time\n",
    "\n",
    "# sestavení dvou náhodných matic o velikosti 1000 x 1000 pomocí numpy\n",
    "matrix1 = np.random.rand(1000, 1000)\n",
    "matrix2 = np.random.rand(1000, 1000)\n",
    "\n",
    "# násobení matic pomocí numpy\n",
    "start_time = time.time()\n",
    "result_numpy = np.dot(matrix1, matrix2)\n",
    "end_time = time.time()\n",
    "numpy_time = end_time - start_time\n",
    "print(\"Numpy time:\", numpy_time)\n",
    "\n",
    "# sestavení dvou náhodných matic o velikosti 1000 x 1000 pomocí standardního pythonu\n",
    "matrix1 = [[random.random() for j in range(1000)] for i in range(1000)]\n",
    "matrix2 = [[random.random() for j in range(1000)] for i in range(1000)]\n",
    "\n",
    "# násobení matic pomocí standardního pythonu\n",
    "start_time = time.time()\n",
    "result_python = [[0 for j in range(1000)] for i in range(1000)]\n",
    "for i in range(1000): #Vnější smyčka prochází řádky první matice\n",
    "    for j in range(1000): #střední smyčka prochází sloupci druhé matice\n",
    "        for k in range(1000): #a vnitřní smyčka prochází sloupci první matice a řádky druhé matice a provádí operaci násobení odpovídajících prvků\n",
    "            result_python[i][j] += matrix1[i][k] * matrix2[k][j]\n",
    "end_time = time.time()\n",
    "python_time = end_time - start_time\n",
    "print(\"Python time:\", python_time)\n",
    "print(\"NumPy je\", python_time/numpy_time, \"krát rychlejší než Python\")"
   ]
  },
  {
   "cell_type": "code",
   "execution_count": 57,
   "id": "b394c90a-e559-4961-8ddb-ce87fe2d5615",
   "metadata": {},
   "outputs": [
    {
     "name": "stdout",
     "output_type": "stream",
     "text": [
      "Řešení kvadratické rovnice pomocí standardního Pythonu trvalo 0.0 sekund a kořeny jsou ((1+0j), (2+0j)).\n",
      "Řešení kvadratické rovnice pomocí numpy trvalo 0.0009968280792236328 sekund a kořeny jsou [2. 1.].\n",
      "Standardní Python byl rychlejší.\n"
     ]
    }
   ],
   "source": [
    "#4.Výpočet kvadratických rovnic\n",
    "import numpy as np\n",
    "import time\n",
    "import cmath  # Knihovna pro práci s komplexními čísly\n",
    "\n",
    "# Funkce pro řešení kvadratické rovnice pomocí standardního Pythonu\n",
    "def solve_quadratic_python(a, b, c):  # ax^2 + bx + c = 0\n",
    "    # Výpočet diskriminantu\n",
    "    D = b**2 - 4*a*c\n",
    "    # Výpočet kořenů kvadratické rovnice\n",
    "    x1 = (-b - cmath.sqrt(D)) / (2*a)\n",
    "    x2 = (-b + cmath.sqrt(D)) / (2*a)\n",
    "    return (x1, x2)\n",
    "\n",
    "# Funkce pro řešení kvadratické rovnice pomocí numpy\n",
    "def solve_quadratic_numpy(a, b, c):  # ax^2 + bx + c = 0\n",
    "    # Numpy má funkci pro výpočet kořenů polynomu\n",
    "    return np.roots([a, b, c])\n",
    "\n",
    "# Testování rychlosti řešení kvadratické rovnice\n",
    "a = 1\n",
    "b = -3\n",
    "c = 2\n",
    "\n",
    "start_time = time.time()\n",
    "x_python = solve_quadratic_python(a, b, c)\n",
    "python_time = time.time() - start_time\n",
    "\n",
    "start_time = time.time()\n",
    "x_numpy = solve_quadratic_numpy(a, b, c)\n",
    "numpy_time = time.time() - start_time\n",
    "\n",
    "print(f\"Řešení kvadratické rovnice pomocí standardního Pythonu trvalo {python_time} sekund a kořeny jsou {x_python}.\")\n",
    "print(f\"Řešení kvadratické rovnice pomocí numpy trvalo {numpy_time} sekund a kořeny jsou {x_numpy}.\")\n",
    "\n",
    "if python_time < numpy_time:\n",
    "    print(\"Standardní Python byl rychlejší.\")\n",
    "else:\n",
    "    print(\"Numpy byla rychlejší.\")\n"
   ]
  },
  {
   "cell_type": "code",
   "execution_count": 58,
   "id": "8692ae6d-54d5-4019-bda1-59c3a07bcc83",
   "metadata": {},
   "outputs": [
    {
     "name": "stdout",
     "output_type": "stream",
     "text": [
      "Výsledek výpočtu derivace pomocí standardního Pythonu: 0.5403023022659825\n",
      "Výsledek výpočtu derivace pomocí SymPy: 0.540302305868140\n",
      "Čas výpočtu derivace pomocí standardního Pythonu: 0.000645900028757751\n",
      "Čas výpočtu derivace pomocí SymPy: 0.13622970005962998\n"
     ]
    }
   ],
   "source": [
    "#5 Výpočet derivace\n",
    "import math\n",
    "from sympy import symbols, diff, sin, cos\n",
    "import timeit\n",
    "\n",
    "# funkce pro výpočet derivace standardním Pythonem\n",
    "def f(x):  \n",
    "    return math.sin(x) * math.cos(x) #vezme jeden argument x a vrátí součin funkcí\n",
    "\n",
    "def derivace_python(f, x, h=0.0001):\n",
    "    return (f(x + h) - f(x - h)) / (2 * h) #h je volitelný argument, který určuje velikost kroku mezi body použitými k výpočtu derivace\n",
    "\n",
    "# funkce pro výpočet derivace pomocí SymPy\n",
    "x = symbols('x')\n",
    "f_sym = sin(x) * cos(x)\n",
    "derivace_sym = diff(f_sym, x)\n",
    "\n",
    "def derivace_sympy(x):\n",
    "    return derivace_sym.evalf(subs={x: x}) #subs={x: x} určuje, že v symbolickém výrazu by měl být znak x nahrazen hodnotou x předanou jako argument funkce\n",
    "\n",
    "# srovnání rychlosti výpočtu\n",
    "x_cislo = 0.5\n",
    "vysledek_python = derivace_python(f, x_cislo)\n",
    "vysledek_sympy = derivace_sym.evalf(subs={x: x_cislo})\n",
    "\n",
    "print(\"Výsledek výpočtu derivace pomocí standardního Pythonu:\", vysledek_python)\n",
    "print(\"Výsledek výpočtu derivace pomocí SymPy:\", vysledek_sympy)\n",
    "\n",
    "cas_python = timeit.timeit(lambda: derivace_python(f, x_cislo), number=1000)\n",
    "cas_sympy = timeit.timeit(lambda: derivace_sympy(x_cislo), number=1000)\n",
    "print(\"Čas výpočtu derivace pomocí standardního Pythonu:\", cas_python)\n",
    "print(\"Čas výpočtu derivace pomocí SymPy:\", cas_sympy)"
   ]
  },
  {
   "cell_type": "code",
   "execution_count": null,
   "id": "eeda8b07-d3c8-4536-b081-6476788e3db5",
   "metadata": {},
   "outputs": [],
   "source": []
  }
 ],
 "metadata": {
  "kernelspec": {
   "display_name": "Python 3 (ipykernel)",
   "language": "python",
   "name": "python3"
  },
  "language_info": {
   "codemirror_mode": {
    "name": "ipython",
    "version": 3
   },
   "file_extension": ".py",
   "mimetype": "text/x-python",
   "name": "python",
   "nbconvert_exporter": "python",
   "pygments_lexer": "ipython3",
   "version": "3.12.3"
  }
 },
 "nbformat": 4,
 "nbformat_minor": 5
}
