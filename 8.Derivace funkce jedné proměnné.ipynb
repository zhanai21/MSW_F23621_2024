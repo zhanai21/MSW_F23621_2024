{
 "cells": [
  {
   "cell_type": "markdown",
   "id": "33b24026-fae2-4ef3-a1ed-e486605c5c66",
   "metadata": {},
   "source": [
    "8"
   ]
  },
  {
   "cell_type": "code",
   "execution_count": 1,
   "id": "341d1701-71a2-47af-b4f1-60f3f69a2365",
   "metadata": {},
   "outputs": [
    {
     "name": "stdout",
     "output_type": "stream",
     "text": [
      "Numerická derivace s adaptivním krokem: 0.9999739585367795\n",
      "Analytická derivace: 1.0000000000000002\n"
     ]
    }
   ],
   "source": [
    "import math\n",
    "\n",
    "def f(x):\n",
    "    return math.sin(2*x)  # Funkce, kterou chceme diferencovat\n",
    "\n",
    "def f_prime(x):\n",
    "    return 2 * math.cos(2*x)  # Analytická derivace funkce\n",
    "\n",
    "def numerical_derivative(x, h):\n",
    "    return (f(x + h) - f(x - h)) / (2 * h) \n",
    "\n",
    "def adaptive_derivative(x, h, tolerance):\n",
    "    h_new = h\n",
    "    error = float('inf')\n",
    "\n",
    "    while error > tolerance:\n",
    "        derivative = numerical_derivative(x, h_new)\n",
    "        derivative_left = numerical_derivative(x, h_new/2)\n",
    "        derivative_right = numerical_derivative(x, h_new/4)\n",
    "\n",
    "        error = abs(derivative_left - derivative_right)\n",
    "        h_new /= 2\n",
    "\n",
    "    return derivative\n",
    "\n",
    "# Nastavení hodnot\n",
    "x = math.pi / 6  # Hodnota pro x\n",
    "h = 0.05  # Počáteční krok\n",
    "tolerance = 1e-5  # Přípustná tolerance\n",
    "\n",
    "# Výpočet derivace s adaptivním krokem\n",
    "adaptive_result = adaptive_derivative(x, h, tolerance)\n",
    "\n",
    "# Výpočet analytické derivace\n",
    "analytical_result = f_prime(x)\n",
    "\n",
    "# Výsledky\n",
    "print(\"Numerická derivace s adaptivním krokem:\", adaptive_result)\n",
    "print(\"Analytická derivace:\", analytical_result)"
   ]
  },
  {
   "cell_type": "code",
   "execution_count": null,
   "id": "709915f6-800d-484d-bee3-2c5842c18580",
   "metadata": {},
   "outputs": [],
   "source": []
  }
 ],
 "metadata": {
  "kernelspec": {
   "display_name": "Python 3 (ipykernel)",
   "language": "python",
   "name": "python3"
  },
  "language_info": {
   "codemirror_mode": {
    "name": "ipython",
    "version": 3
   },
   "file_extension": ".py",
   "mimetype": "text/x-python",
   "name": "python",
   "nbconvert_exporter": "python",
   "pygments_lexer": "ipython3",
   "version": "3.12.3"
  }
 },
 "nbformat": 4,
 "nbformat_minor": 5
}
