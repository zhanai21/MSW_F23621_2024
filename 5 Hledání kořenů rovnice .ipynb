{
  "nbformat": 4,
  "nbformat_minor": 0,
  "metadata": {
    "colab": {
      "provenance": [],
      "authorship_tag": "ABX9TyPC8e6whfHc9J5MKl6tPjiN",
      "include_colab_link": true
    },
    "kernelspec": {
      "name": "python3",
      "display_name": "Python 3"
    },
    "language_info": {
      "name": "python"
    }
  },
  "cells": [
    {
      "cell_type": "markdown",
      "metadata": {
        "id": "view-in-github",
        "colab_type": "text"
      },
      "source": [
        "<a href=\"https://colab.research.google.com/github/Danil5115/Mat-Software/blob/main/5%20Hled%C3%A1n%C3%AD%20ko%C5%99en%C5%AF%20rovnice%20.ipynb\" target=\"_parent\"><img src=\"https://colab.research.google.com/assets/colab-badge.svg\" alt=\"Open In Colab\"/></a>"
      ]
    },
    {
      "cell_type": "code",
      "execution_count": 1,
      "metadata": {
        "id": "cbnL6loRLdZg"
      },
      "outputs": [],
      "source": [
        "import math\n",
        "import time\n"
      ]
    },
    {
      "cell_type": "code",
      "source": [
        "def polynomial_function(x): #\n",
        "    return x**4 + 3*x**2 - 13*x - 5\n",
        "\n",
        "def bounded_method_polynomial(): #omezena metoda\n",
        "    a = -5 #počáteční hodnoty pro interval, ve kterém se očekává nalezení kořene\n",
        "    b = 5\n",
        "    epsilon = 0.0001 #Určuje přesnost, s jakou chceme kořen najít\n",
        "    start_time = time.time()\n",
        "\n",
        "    while abs(b - a) > epsilon: #pokud je rozdíl mezi b a a větší než epsilon. To znamená, že budeme dělit interval na polovinu, dokud není interval dostatečně malý.\n",
        "        c = (a + b) / 2 #Nalezení středu intervalu\n",
        "        if polynomial_function(c) == 0: #Zkontrolujeme, zda je hodnota funkce v bodě c rovna nule. Pokud ano, pak jsme již našli kořen a opustili smyčku.\n",
        "            break\n",
        "        if polynomial_function(a) * polynomial_function(c) < 0: #Zkontrolujeme znaménko součinu funkčních hodnot v bodech a a c. Pokud je součin menší než nula, pak je kořen mezi a a c. V tomto případě aktualizujeme hodnotu b na c, abychom zúžili rozsah.\n",
        "            b = c\n",
        "        else: #aktualizujeme hodnotu a o c, abychom zúžili rozsah.\n",
        "            a = c\n",
        "\n",
        "    end_time = time.time()\n",
        "    elapsed_time = end_time - start_time\n",
        "\n",
        "    return c, elapsed_time\n",
        "\n",
        "def unbounded_method_polynomial(): #neomezena metoda\n",
        "    x0 = 1.0 #Určuje počáteční hodnotu x0, která se používá pro iterace metody\n",
        "    epsilon = 0.0001\n",
        "    start_time = time.time()\n",
        "\n",
        "    while abs(polynomial_function(x0)) > epsilon: #Smyčka bude prováděna, dokud bude absolutní hodnota funkce v x0 větší než epsilon. To znamená, že pokračujeme v iteraci, dokud nedosáhneme požadované přesnosti.\n",
        "        x0 = x0 - polynomial_function(x0) / derivative_polynomial(x0) #Nová hodnota x0 se vypočítá odečtením poměru hodnoty funkce v bodě x0 k derivaci funkce v bodě x0. Toto je iterativní krok metody pro nalezení přibližného kořene.\n",
        "\n",
        "    end_time = time.time()\n",
        "    elapsed_time = end_time - start_time\n",
        "\n",
        "    return x0, elapsed_time\n"
      ],
      "metadata": {
        "id": "_hsPcxU5M449"
      },
      "execution_count": 2,
      "outputs": []
    },
    {
      "cell_type": "code",
      "source": [
        "def exponential_function(x):\n",
        "    return math.exp(x) - 3*x\n",
        "\n",
        "def bounded_method_exponential():\n",
        "    a = -1\n",
        "    b = 1\n",
        "    epsilon = 0.0001\n",
        "    start_time = time.time()\n",
        "\n",
        "    while abs(b - a) > epsilon:\n",
        "        c = (a + b) / 2\n",
        "        if exponential_function(c) == 0:\n",
        "            break\n",
        "        if exponential_function(a) * exponential_function(c) < 0:\n",
        "            b = c\n",
        "        else:\n",
        "            a = c\n",
        "\n",
        "    end_time = time.time()\n",
        "    elapsed_time = end_time - start_time\n",
        "\n",
        "    return c, elapsed_time\n",
        "\n",
        "def unbounded_method_exponential():\n",
        "    x0 = 0\n",
        "    epsilon = 0.0001\n",
        "    start_time = time.time()\n",
        "\n",
        "    while abs(exponential_function(x0)) > epsilon:\n",
        "        x0 = x0 - exponential_function(x0) / derivative_exponential(x0)\n",
        "\n",
        "    end_time = time.time()\n",
        "    elapsed_time = end_time - start_time\n",
        "\n",
        "    return x0, elapsed_time\n"
      ],
      "metadata": {
        "id": "8sACvrH6NM8u"
      },
      "execution_count": 3,
      "outputs": []
    },
    {
      "cell_type": "code",
      "source": [
        "def trigonometric_function(x):\n",
        "    return math.sin(x) + x**2\n",
        "\n",
        "def bounded_method_trigonometric():\n",
        "    a = -1\n",
        "    b = 1\n",
        "    epsilon = 0.0001\n",
        "    start_time = time.time()\n",
        "\n",
        "    while abs(b - a) > epsilon:\n",
        "        c = (a + b) / 2\n",
        "        if trigonometric_function(c) == 0:\n",
        "            break\n",
        "        if trigonometric_function(a) * trigonometric_function(c) < 0:\n",
        "            b = c\n",
        "        else:\n",
        "            a = c\n",
        "\n",
        "    end_time = time.time()\n",
        "    elapsed_time = end_time - start_time\n",
        "\n",
        "    return c, elapsed_time\n",
        "\n",
        "def unbounded_method_trigonometric():\n",
        "    x0 = 0\n",
        "    epsilon = 0.0001\n",
        "    start_time = time.time()\n",
        "\n",
        "    while abs(trigonometric_function(x0)) > epsilon:\n",
        "        x0 = x0 - trigonometric_function(x0) / derivative_trigonometric(x0)\n",
        "\n",
        "    end_time = time.time()\n",
        "    elapsed_time = end_time - start_time\n",
        "\n",
        "    return x0, elapsed_time\n"
      ],
      "metadata": {
        "id": "-aOC4viNNRJb"
      },
      "execution_count": 4,
      "outputs": []
    },
    {
      "cell_type": "code",
      "source": [
        "def derivative_polynomial(x):\n",
        "    return 4*x**3 + 6*x - 13\n",
        "\n",
        "def derivative_exponential(x):\n",
        "    return math.exp(x) - 3\n",
        "\n",
        "def derivative_trigonometric(x):\n",
        "    return math.cos(x) + 2*x\n"
      ],
      "metadata": {
        "id": "d0yEgOVfNTG6"
      },
      "execution_count": 5,
      "outputs": []
    },
    {
      "cell_type": "code",
      "source": [
        "root, elapsed_time = bounded_method_polynomial()\n",
        "print(\"Ohraničená metoda – polynom:\")\n",
        "print(\"Kořen:\", root)\n",
        "print(\"Uplynulý čas:\", elapsed_time)\n",
        "\n",
        "root, elapsed_time = unbounded_method_polynomial()\n",
        "print(\"\\nNeohraničená metoda – polynom:\")\n",
        "print(\"Kořen:\", root)\n",
        "print(\"Uplynulý čas:\", elapsed_time)\n",
        "\n",
        "root, elapsed_time = bounded_method_exponential()\n",
        "print(\"\\nOhraničená metoda - Exponenciální:\")\n",
        "print(\"Kořen:\", root)\n",
        "print(\"Uplynulý čas:\", elapsed_time)\n",
        "\n",
        "root, elapsed_time = unbounded_method_exponential()\n",
        "print(\"\\nNeohraničená metoda - Exponenciální:\")\n",
        "print(\"Kořen:\", root)\n",
        "print(\"Uplynulý čas:\", elapsed_time)\n",
        "\n",
        "root, elapsed_time = bounded_method_trigonometric()\n",
        "print(\"\\nOhraničená metoda - Trigonometrický:\")\n",
        "print(\"Kořen:\", root)\n",
        "print(\"Uplynulý čas:\", elapsed_time)\n",
        "\n",
        "root, elapsed_time = unbounded_method_trigonometric()\n",
        "print(\"\\nNeohraničená metoda - Trigonometrický:\")\n",
        "print(\"Kořen:\", root)\n",
        "print(\"Uplynulý čas:\", elapsed_time)\n"
      ],
      "metadata": {
        "colab": {
          "base_uri": "https://localhost:8080/"
        },
        "id": "biwyr5dENWLN",
        "outputId": "e2de1cc5-beb5-462e-84f6-c87b4ae7cc87"
      },
      "execution_count": 8,
      "outputs": [
        {
          "output_type": "stream",
          "name": "stdout",
          "text": [
            "Ohraničená metoda – polynom:\n",
            "Kořen: -0.3543853759765625\n",
            "Uplynulý čas: 3.528594970703125e-05\n",
            "\n",
            "Neohraničená metoda – polynom:\n",
            "Kořen: -0.3544150247085609\n",
            "Uplynulý čas: 1.3113021850585938e-05\n",
            "\n",
            "Ohraničená metoda - Exponenciální:\n",
            "Kořen: 0.61907958984375\n",
            "Uplynulý čas: 2.6464462280273438e-05\n",
            "\n",
            "Neohraničená metoda - Exponenciální:\n",
            "Kořen: 0.6189967797415397\n",
            "Uplynulý čas: 9.059906005859375e-06\n",
            "\n",
            "Ohraničená metoda - Trigonometrický:\n",
            "Kořen: 0.0\n",
            "Uplynulý čas: 6.67572021484375e-06\n",
            "\n",
            "Neohraničená metoda - Trigonometrický:\n",
            "Kořen: 0\n",
            "Uplynulý čas: 4.291534423828125e-06\n"
          ]
        }
      ]
    }
  ]
}