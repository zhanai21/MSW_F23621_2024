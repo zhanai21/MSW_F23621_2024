{
 "cells": [
  {
   "cell_type": "markdown",
   "id": "6ab33bdf-7306-45c6-87ec-82a683229748",
   "metadata": {},
   "source": [
    "6.Tento kód sbírá pozice myši a generuje z nich hash, který slouží jako semeno pro generátor pseudonáhodných čísel"
   ]
  },
  {
   "cell_type": "code",
   "execution_count": 1,
   "id": "57d6ba69-bafe-4fac-9f89-5f07c6cdfa92",
   "metadata": {},
   "outputs": [
    {
     "name": "stdout",
     "output_type": "stream",
     "text": [
      "Vygenerované semeno na základě pohybů myší: -1107453806238925835\n"
     ]
    }
   ],
   "source": [
    "import pyautogui\n",
    "\n",
    "def generate_seed_from_mouse_movement(num_samples=100):\n",
    "    mouse_positions = []\n",
    "\n",
    "    # Sbíráme data o pozicích myši\n",
    "    for _ in range(num_samples):\n",
    "        x, y = pyautogui.position()\n",
    "        mouse_positions.append((x, y))\n",
    "\n",
    "    # Generuje semeno na základě získaných dat\n",
    "    seed = hash(tuple(mouse_positions))\n",
    "\n",
    "    return seed\n",
    "\n",
    "# Příklad použití\n",
    "random_seed = generate_seed_from_mouse_movement()\n",
    "print(\"Vygenerované semeno na základě pohybů myší:\", random_seed)"
   ]
  }
 ],
 "metadata": {
  "kernelspec": {
   "display_name": "Python 3 (ipykernel)",
   "language": "python",
   "name": "python3"
  },
  "language_info": {
   "codemirror_mode": {
    "name": "ipython",
    "version": 3
   },
   "file_extension": ".py",
   "mimetype": "text/x-python",
   "name": "python",
   "nbconvert_exporter": "python",
   "pygments_lexer": "ipython3",
   "version": "3.12.3"
  }
 },
 "nbformat": 4,
 "nbformat_minor": 5
}
